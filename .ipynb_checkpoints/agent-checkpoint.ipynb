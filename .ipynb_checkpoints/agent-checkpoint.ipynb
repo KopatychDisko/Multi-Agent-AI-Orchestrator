{
 "cells": [
  {
   "cell_type": "markdown",
   "id": "cc0eca6b-22a1-4247-837a-8eccf4cf8618",
   "metadata": {},
   "source": [
    "# Serup"
   ]
  },
  {
   "cell_type": "code",
   "execution_count": 1,
   "id": "5670bb74-e9e1-48c9-bb33-93ef4a20205e",
   "metadata": {},
   "outputs": [],
   "source": [
    "from langchain_core.prompts import ChatPromptTemplate, MessagesPlaceholder\n",
    "from langchain_core.messages import HumanMessage\n",
    "\n",
    "from langchain_openai import ChatOpenAI\n",
    "from langchain_tavily import TavilySearch\n",
    "\n",
    "from langchain_community.agent_toolkits import FileManagementToolkit\n",
    "from langchain_experimental.tools.python.tool import PythonREPLTool\n",
    "\n",
    "from langgraph.graph import StateGraph, MessagesState\n",
    "from langgraph.prebuilt import create_react_agent\n",
    "from langgraph.constants import END, START\n",
    "\n",
    "from pydantic import BaseModel, Field\n",
    "from typing import Literal, Annotated, List, TypedDict\n",
    "\n",
    "from getpass import getpass\n",
    "from os import environ, getcwd\n",
    "\n",
    "import functools"
   ]
  },
  {
   "cell_type": "code",
   "execution_count": 2,
   "id": "e87ac6c8-6e8e-4af3-9909-deebd5e1b62c",
   "metadata": {},
   "outputs": [
    {
     "name": "stdout",
     "output_type": "stream",
     "text": [
      "Your api for openrouter:  ········\n",
      "Your api for tavily:  ········\n"
     ]
    }
   ],
   "source": [
    "base_url = 'https://openrouter.ai/api/v1'\n",
    "\n",
    "environ['OPENAI_API_KEY'] = getpass('Your api for openrouter: ')\n",
    "environ['TAVILY_API_KEY'] = getpass('Your api for tavily: ')"
   ]
  },
  {
   "cell_type": "markdown",
   "id": "fd5fc547-52de-47ef-b499-edb946a2a704",
   "metadata": {},
   "source": [
    "# Create agent\n",
    "\n",
    "First we need create state. In state we will have useful info for agents."
   ]
  },
  {
   "cell_type": "code",
   "execution_count": 3,
   "id": "03b54b34-b79e-42da-8ec8-3a00c2a6100a",
   "metadata": {},
   "outputs": [],
   "source": [
    "members = ['coder_agent', 'files_agent', 'research_agent']\n",
    "options = ['END'] + members"
   ]
  },
  {
   "cell_type": "code",
   "execution_count": 4,
   "id": "509f7f70-e8b4-4cdb-9dd4-b41daf1a5ea6",
   "metadata": {},
   "outputs": [],
   "source": [
    "class Supervisor(BaseModel):\n",
    "    next_agent: Literal[*options]\n",
    "    prompt: str\n",
    "\n",
    "class State(MessagesState):\n",
    "    next_agent: str\n",
    "    prompt: str"
   ]
  },
  {
   "cell_type": "markdown",
   "id": "0cc45977-0287-4fa7-b993-8af51e69a4cb",
   "metadata": {},
   "source": [
    "Use two model. Supervisor model - gpt 4o, worker agent - deepseek"
   ]
  },
  {
   "cell_type": "code",
   "execution_count": 5,
   "id": "ecfdfc60-4109-4eb6-841b-c1d3e8ed3701",
   "metadata": {},
   "outputs": [],
   "source": [
    "gpt_4_mini = ChatOpenAI(base_url=base_url, model='openai/gpt-4o-mini', temperature=0)\n",
    "deepseek = ChatOpenAI(base_url=base_url, model='deepseek/deepseek-chat-v3-0324:free', temperature=0)"
   ]
  },
  {
   "cell_type": "code",
   "execution_count": 57,
   "id": "1994cf3f-f34e-4e86-b9a4-6ef6c20ea90a",
   "metadata": {},
   "outputs": [],
   "source": [
    "system_prompt = '''\n",
    "You are a supervisor AI managing three specialized agents with the following responsibilities:\n",
    "\n",
    "{members}\n",
    "\n",
    "Code Agent – writes, reviews, and fixes code  this agnet return only code. And also he can execute code\n",
    "File Agent – works with files in a folder: reads, modifies, creates, or deletes files as instructed. Dont forget add context or code that neede to write\n",
    "Info Agent - find info if needed for code or for query from user in Internet, do not ask how write a script\n",
    "- ask only info about topic. \n",
    "\n",
    "Given the following user request,\n",
    "respond with the worker to act next. Each worker will perform a\n",
    "task and respond with their results and status. \n",
    "\n",
    "For Agent you need to add instruction - what he need to do with context\n",
    "if you need code_agent give instruction with data.\n",
    "if files_agent - not just send instruction, send also what need write to file (for example)\n",
    "\n",
    "When finished,\n",
    "respond with END.\n",
    "'''\n",
    "\n",
    "supervisor_prompt = ChatPromptTemplate([\n",
    "    ('system', system_prompt),\n",
    "    MessagesPlaceholder(variable_name='messages'),\n",
    "    ('system', \"Given the conversation above, who should act next? \"\n",
    "            \"Or should we FINISH? Select one of: {options}\")\n",
    "]).partial(options=str(options), members=members)\n",
    "\n",
    "supervisor = supervisor_prompt | gpt_4_mini.with_structured_output(Supervisor)\n",
    "\n",
    "def supervisor_node(state: State):\n",
    "    return supervisor.invoke(state)"
   ]
  },
  {
   "cell_type": "markdown",
   "id": "8000eaaf-2d3a-401b-9272-13225c5bb67a",
   "metadata": {},
   "source": [
    "Here I use template for node in graph"
   ]
  },
  {
   "cell_type": "code",
   "execution_count": 48,
   "id": "77082cbe-37c7-4bd7-8c5b-b351f3177838",
   "metadata": {},
   "outputs": [],
   "source": [
    "def agent_node(state, agent, name):\n",
    "    responce = agent.invoke({'messages': [HumanMessage(content=state['prompt'])]})\n",
    "\n",
    "    return {'messages': [HumanMessage(content=responce['messages'][-1].content, name=name)]}"
   ]
  },
  {
   "cell_type": "code",
   "execution_count": 49,
   "id": "aa7592ca-970b-4ae4-b4e8-28755296706d",
   "metadata": {},
   "outputs": [],
   "source": [
    "toolkit = FileManagementToolkit(root_dir='./').get_tools()\n",
    "\n",
    "files_agent = create_react_agent(\n",
    "    model=deepseek, tools=toolkit, \n",
    "    prompt='You re a FileAgent. You can read, write update files in directory with tools'\n",
    "    'Dont wirte code in file or something else'\n",
    ")\n",
    "\n",
    "files_node = functools.partial(agent_node, agent=files_agent, name='files_agent')"
   ]
  },
  {
   "cell_type": "code",
   "execution_count": 50,
   "id": "b1740fbf-022b-488b-87fd-ae3755b54446",
   "metadata": {},
   "outputs": [],
   "source": [
    "system_prompt = ''' \n",
    "Instructions:\n",
    "You must return the code snippet exactly as it.\n",
    "\n",
    "Expected response:\n",
    "\n",
    "def factorial(n):\n",
    "    return 1 if n == 0 else n * factorial(n - 1)\n",
    "'''\n",
    "\n",
    "python_exex = PythonREPLTool()\n",
    "\n",
    "coder_agent = create_react_agent(\n",
    "    model=deepseek,\n",
    "    prompt=system_prompt,\n",
    "    tools=[python_exex]\n",
    ")\n",
    "\n",
    "coder_node = functools.partial(agent_node, agent=coder_agent, name='coder_agent')"
   ]
  },
  {
   "cell_type": "code",
   "execution_count": 51,
   "id": "5be02c45-bbec-4c15-9e53-c62921dace82",
   "metadata": {},
   "outputs": [],
   "source": [
    "tavily_search = TavilySearch(max_results=5)\n",
    "\n",
    "research_agent = create_react_agent(\n",
    "    model=deepseek,\n",
    "    tools=[tavily_search]\n",
    ")\n",
    "\n",
    "research_node = functools.partial(agent_node, agent=research_agent, name='research_agent')"
   ]
  },
  {
   "cell_type": "markdown",
   "id": "6a87c202-6de8-4860-963d-62bcef074e47",
   "metadata": {},
   "source": [
    "After the creation of the aents and nodes, we must impoverish them in the graph"
   ]
  },
  {
   "cell_type": "code",
   "execution_count": 52,
   "id": "8dc39f5f-3051-4711-a1e2-d566e7b111f5",
   "metadata": {},
   "outputs": [],
   "source": [
    "def router(state: State):\n",
    "    return state['next_agent']"
   ]
  },
  {
   "cell_type": "code",
   "execution_count": 36,
   "id": "b42bc89b-79e4-4b66-82d5-ba7b95421ebb",
   "metadata": {},
   "outputs": [],
   "source": [
    "graph = StateGraph(State)\n",
    "\n",
    "graph.add_node('supervisor', supervisor_node)\n",
    "graph.add_node('files_agent', files_node)\n",
    "graph.add_node('coder_agent', coder_node)\n",
    "graph.add_node('research_agent', research_node)\n",
    "\n",
    "for m in members:\n",
    "    graph.add_edge(m, 'supervisor')\n",
    "\n",
    "conditional_map = {m: m for m in members}\n",
    "conditional_map['END'] = END \n",
    "\n",
    "graph.add_conditional_edges('supervisor', router, conditional_map)\n",
    "\n",
    "graph.set_entry_point('supervisor')\n",
    "graph.add_edge('supervisor', END)\n",
    "\n",
    "app = graph.compile()"
   ]
  },
  {
   "cell_type": "code",
   "execution_count": 53,
   "id": "a1b15229-7525-4fab-93f9-7a59b5bf8a5c",
   "metadata": {},
   "outputs": [],
   "source": [
    "from IPython.display import Image, display\n",
    "from langgraph.graph.state import CompiledStateGraph\n",
    "\n",
    " # Graph visualization\n",
    "def visualize_graph(graph, xray=False):\n",
    "    \"\"\"\n",
    "    Visualizes and displays a CompiledStateGraph object.\n",
    "    \n",
    "    This function converts and displays the given graph object as a PNG image in Mermaid format if it is an instance of CompiledStateGraph.\n",
    "\n",
    "    Args:\n",
    "        graph: The graph object to visualize. It must be an instance of CompiledStateGraph.\n",
    "\n",
    "    Returns:\n",
    "        None\n",
    "\n",
    "    Raises:\n",
    "        Exception: Outputs an exception if an error occurs during graph visualization.\n",
    "    \"\"\"\n",
    "    try:\n",
    "        if isinstance(graph, CompiledStateGraph):\n",
    "            display(\n",
    "                Image(\n",
    "                    graph.get_graph(xray=xray).draw_mermaid_png(\n",
    "                        background_color=\"white\",\n",
    "                        node_colors=None,\n",
    "                    )\n",
    "                )\n",
    "            )\n",
    "    except Exception as e:\n",
    "        print(f\"[ERROR] Visualize Graph Error: {e}\")"
   ]
  },
  {
   "cell_type": "code",
   "execution_count": 54,
   "id": "8f72f9e4-f106-41cd-af9c-8a0f6f8d765b",
   "metadata": {},
   "outputs": [
    {
     "data": {
      "image/png": "[encoded data removed]",
      "text/plain": [
       "<IPython.core.display.Image object>"
      ]
     },
     "metadata": {},
     "output_type": "display_data"
    }
   ],
   "source": [
    "visualize_graph(app)"
   ]
  },
  {
   "cell_type": "code",
   "execution_count": 55,
   "id": "f13b8aa3-1c30-448d-a778-f87c1e2b5a22",
   "metadata": {},
   "outputs": [],
   "source": [
    "def invoke_graph(message: str):\n",
    "    temp_state = State(messages=HumanMessage(message))\n",
    "\n",
    "    for step in app.stream(temp_state, stream_mode='values'):\n",
    "        for k, v in step.items():\n",
    "            if k != \"__end__\":\n",
    "                print('==============')\n",
    "                print(v)"
   ]
  },
  {
   "cell_type": "code",
   "execution_count": 61,
   "id": "195bce40-1686-4bd2-aefd-6841e1290f18",
   "metadata": {},
   "outputs": [
    {
     "name": "stdout",
     "output_type": "stream",
     "text": [
      "==============\n",
      "[HumanMessage(content='Create a script that displays a graph Russian GDPWrite this script to a file for me so that I can run it myselfExecute code before write it for check', additional_kwargs={}, response_metadata={}, id='088cea43-d5cb-4181-86eb-a3212a8f72f7')]\n",
      "==============\n",
      "[HumanMessage(content='Create a script that displays a graph Russian GDPWrite this script to a file for me so that I can run it myselfExecute code before write it for check', additional_kwargs={}, response_metadata={}, id='088cea43-d5cb-4181-86eb-a3212a8f72f7')]\n",
      "==============\n",
      "coder_agent\n",
      "==============\n",
      "Create a script that displays a graph of Russian GDP. Execute the code to check if it works correctly before writing it to a file.\n"
     ]
    },
    {
     "data": {
      "image/png": "[encoded data removed]",
      "text/plain": [
       "<Figure size 1000x600 with 1 Axes>"
      ]
     },
     "metadata": {},
     "output_type": "display_data"
    },
    {
     "name": "stdout",
     "output_type": "stream",
     "text": [
      "==============\n",
      "[HumanMessage(content='Create a script that displays a graph Russian GDPWrite this script to a file for me so that I can run it myselfExecute code before write it for check', additional_kwargs={}, response_metadata={}, id='088cea43-d5cb-4181-86eb-a3212a8f72f7'), HumanMessage(content=\"The script successfully displays a graph of Russian GDP over the years 2010 to 2021. Here is the code snippet for your reference:\\n\\npython\\nimport matplotlib.pyplot as plt\\nimport pandas as pd\\n\\n# Sample GDP data for Russia (in billion USD)\\nyears = [2010, 2011, 2012, 2013, 2014, 2015, 2016, 2017, 2018, 2019, 2020, 2021]\\ngdp = [1524, 2047, 2210, 2297, 2059, 1363, 1283, 1574, 1657, 1699, 1483, 1778]\\n\\n# Create a DataFrame\\ndata = pd.DataFrame({'Year': years, 'GDP (Billion USD)': gdp})\\n\\n# Plot the data\\nplt.figure(figsize=(10, 6))\\nplt.plot(data['Year'], data['GDP (Billion USD)'], marker='o', linestyle='-', color='b')\\nplt.title('Russian GDP Over the Years (2010-2021)')\\nplt.xlabel('Year')\\nplt.ylabel('GDP (Billion USD)')\\nplt.grid(True)\\nplt.show()\\n\\n\\n### Output:\\nThe graph will display the GDP trend for Russia from 2010 to 2021, with markers for each year and a blue line connecting them. The plot includes a title, labeled axes, and a grid for better readability.\\n\\nYou can save this script to a file (e.g., `russian_gdp_plot.py`) if you'd like to reuse it. Let me know if you need any modifications or additional features!\", additional_kwargs={}, response_metadata={}, name='coder_agent', id='1e7ec05d-973f-44a3-82cf-bed08d3a4123')]\n",
      "==============\n",
      "coder_agent\n",
      "==============\n",
      "Create a script that displays a graph of Russian GDP. Execute the code to check if it works correctly before writing it to a file.\n",
      "==============\n",
      "[HumanMessage(content='Create a script that displays a graph Russian GDPWrite this script to a file for me so that I can run it myselfExecute code before write it for check', additional_kwargs={}, response_metadata={}, id='088cea43-d5cb-4181-86eb-a3212a8f72f7'), HumanMessage(content=\"The script successfully displays a graph of Russian GDP over the years 2010 to 2021. Here is the code snippet for your reference:\\n\\npython\\nimport matplotlib.pyplot as plt\\nimport pandas as pd\\n\\n# Sample GDP data for Russia (in billion USD)\\nyears = [2010, 2011, 2012, 2013, 2014, 2015, 2016, 2017, 2018, 2019, 2020, 2021]\\ngdp = [1524, 2047, 2210, 2297, 2059, 1363, 1283, 1574, 1657, 1699, 1483, 1778]\\n\\n# Create a DataFrame\\ndata = pd.DataFrame({'Year': years, 'GDP (Billion USD)': gdp})\\n\\n# Plot the data\\nplt.figure(figsize=(10, 6))\\nplt.plot(data['Year'], data['GDP (Billion USD)'], marker='o', linestyle='-', color='b')\\nplt.title('Russian GDP Over the Years (2010-2021)')\\nplt.xlabel('Year')\\nplt.ylabel('GDP (Billion USD)')\\nplt.grid(True)\\nplt.show()\\n\\n\\n### Output:\\nThe graph will display the GDP trend for Russia from 2010 to 2021, with markers for each year and a blue line connecting them. The plot includes a title, labeled axes, and a grid for better readability.\\n\\nYou can save this script to a file (e.g., `russian_gdp_plot.py`) if you'd like to reuse it. Let me know if you need any modifications or additional features!\", additional_kwargs={}, response_metadata={}, name='coder_agent', id='1e7ec05d-973f-44a3-82cf-bed08d3a4123')]\n",
      "==============\n",
      "files_agent\n",
      "==============\n",
      "Write the provided code to a file named 'russian_gdp_plot.py'.\n",
      "==============\n",
      "[HumanMessage(content='Create a script that displays a graph Russian GDPWrite this script to a file for me so that I can run it myselfExecute code before write it for check', additional_kwargs={}, response_metadata={}, id='088cea43-d5cb-4181-86eb-a3212a8f72f7'), HumanMessage(content=\"The script successfully displays a graph of Russian GDP over the years 2010 to 2021. Here is the code snippet for your reference:\\n\\npython\\nimport matplotlib.pyplot as plt\\nimport pandas as pd\\n\\n# Sample GDP data for Russia (in billion USD)\\nyears = [2010, 2011, 2012, 2013, 2014, 2015, 2016, 2017, 2018, 2019, 2020, 2021]\\ngdp = [1524, 2047, 2210, 2297, 2059, 1363, 1283, 1574, 1657, 1699, 1483, 1778]\\n\\n# Create a DataFrame\\ndata = pd.DataFrame({'Year': years, 'GDP (Billion USD)': gdp})\\n\\n# Plot the data\\nplt.figure(figsize=(10, 6))\\nplt.plot(data['Year'], data['GDP (Billion USD)'], marker='o', linestyle='-', color='b')\\nplt.title('Russian GDP Over the Years (2010-2021)')\\nplt.xlabel('Year')\\nplt.ylabel('GDP (Billion USD)')\\nplt.grid(True)\\nplt.show()\\n\\n\\n### Output:\\nThe graph will display the GDP trend for Russia from 2010 to 2021, with markers for each year and a blue line connecting them. The plot includes a title, labeled axes, and a grid for better readability.\\n\\nYou can save this script to a file (e.g., `russian_gdp_plot.py`) if you'd like to reuse it. Let me know if you need any modifications or additional features!\", additional_kwargs={}, response_metadata={}, name='coder_agent', id='1e7ec05d-973f-44a3-82cf-bed08d3a4123'), HumanMessage(content=\"Please provide the code you'd like me to write to the file named `russian_gdp_plot.py`. Once you share the code, I can proceed with writing it to the specified file.\", additional_kwargs={}, response_metadata={}, name='files_agent', id='7a31d031-8d76-4037-a60a-c5853cb98a58')]\n",
      "==============\n",
      "files_agent\n",
      "==============\n",
      "Write the provided code to a file named 'russian_gdp_plot.py'.\n",
      "==============\n",
      "[HumanMessage(content='Create a script that displays a graph Russian GDPWrite this script to a file for me so that I can run it myselfExecute code before write it for check', additional_kwargs={}, response_metadata={}, id='088cea43-d5cb-4181-86eb-a3212a8f72f7'), HumanMessage(content=\"The script successfully displays a graph of Russian GDP over the years 2010 to 2021. Here is the code snippet for your reference:\\n\\npython\\nimport matplotlib.pyplot as plt\\nimport pandas as pd\\n\\n# Sample GDP data for Russia (in billion USD)\\nyears = [2010, 2011, 2012, 2013, 2014, 2015, 2016, 2017, 2018, 2019, 2020, 2021]\\ngdp = [1524, 2047, 2210, 2297, 2059, 1363, 1283, 1574, 1657, 1699, 1483, 1778]\\n\\n# Create a DataFrame\\ndata = pd.DataFrame({'Year': years, 'GDP (Billion USD)': gdp})\\n\\n# Plot the data\\nplt.figure(figsize=(10, 6))\\nplt.plot(data['Year'], data['GDP (Billion USD)'], marker='o', linestyle='-', color='b')\\nplt.title('Russian GDP Over the Years (2010-2021)')\\nplt.xlabel('Year')\\nplt.ylabel('GDP (Billion USD)')\\nplt.grid(True)\\nplt.show()\\n\\n\\n### Output:\\nThe graph will display the GDP trend for Russia from 2010 to 2021, with markers for each year and a blue line connecting them. The plot includes a title, labeled axes, and a grid for better readability.\\n\\nYou can save this script to a file (e.g., `russian_gdp_plot.py`) if you'd like to reuse it. Let me know if you need any modifications or additional features!\", additional_kwargs={}, response_metadata={}, name='coder_agent', id='1e7ec05d-973f-44a3-82cf-bed08d3a4123'), HumanMessage(content=\"Please provide the code you'd like me to write to the file named `russian_gdp_plot.py`. Once you share the code, I can proceed with writing it to the specified file.\", additional_kwargs={}, response_metadata={}, name='files_agent', id='7a31d031-8d76-4037-a60a-c5853cb98a58')]\n",
      "==============\n",
      "files_agent\n",
      "==============\n",
      "Here is the code to write to the file named `russian_gdp_plot.py`:\n",
      "\n",
      "```python\n",
      "import matplotlib.pyplot as plt\n",
      "import pandas as pd\n",
      "\n",
      "# Sample GDP data for Russia (in billion USD)\n",
      "years = [2010, 2011, 2012, 2013, 2014, 2015, 2016, 2017, 2018, 2019, 2020, 2021]\n",
      "gdp = [1524, 2047, 2210, 2297, 2059, 1363, 1283, 1574, 1657, 1699, 1483, 1778]\n",
      "\n",
      "# Create a DataFrame\n",
      "data = pd.DataFrame({'Year': years, 'GDP (Billion USD)': gdp})\n",
      "\n",
      "# Plot the data\n",
      "plt.figure(figsize=(10, 6))\n",
      "plt.plot(data['Year'], data['GDP (Billion USD)'], marker='o', linestyle='-', color='b')\n",
      "plt.title('Russian GDP Over the Years (2010-2021)')\n",
      "plt.xlabel('Year')\n",
      "plt.ylabel('GDP (Billion USD)')\n",
      "plt.grid(True)\n",
      "plt.show()\n",
      "```\n",
      "==============\n",
      "[HumanMessage(content='Create a script that displays a graph Russian GDPWrite this script to a file for me so that I can run it myselfExecute code before write it for check', additional_kwargs={}, response_metadata={}, id='088cea43-d5cb-4181-86eb-a3212a8f72f7'), HumanMessage(content=\"The script successfully displays a graph of Russian GDP over the years 2010 to 2021. Here is the code snippet for your reference:\\n\\npython\\nimport matplotlib.pyplot as plt\\nimport pandas as pd\\n\\n# Sample GDP data for Russia (in billion USD)\\nyears = [2010, 2011, 2012, 2013, 2014, 2015, 2016, 2017, 2018, 2019, 2020, 2021]\\ngdp = [1524, 2047, 2210, 2297, 2059, 1363, 1283, 1574, 1657, 1699, 1483, 1778]\\n\\n# Create a DataFrame\\ndata = pd.DataFrame({'Year': years, 'GDP (Billion USD)': gdp})\\n\\n# Plot the data\\nplt.figure(figsize=(10, 6))\\nplt.plot(data['Year'], data['GDP (Billion USD)'], marker='o', linestyle='-', color='b')\\nplt.title('Russian GDP Over the Years (2010-2021)')\\nplt.xlabel('Year')\\nplt.ylabel('GDP (Billion USD)')\\nplt.grid(True)\\nplt.show()\\n\\n\\n### Output:\\nThe graph will display the GDP trend for Russia from 2010 to 2021, with markers for each year and a blue line connecting them. The plot includes a title, labeled axes, and a grid for better readability.\\n\\nYou can save this script to a file (e.g., `russian_gdp_plot.py`) if you'd like to reuse it. Let me know if you need any modifications or additional features!\", additional_kwargs={}, response_metadata={}, name='coder_agent', id='1e7ec05d-973f-44a3-82cf-bed08d3a4123'), HumanMessage(content=\"Please provide the code you'd like me to write to the file named `russian_gdp_plot.py`. Once you share the code, I can proceed with writing it to the specified file.\", additional_kwargs={}, response_metadata={}, name='files_agent', id='7a31d031-8d76-4037-a60a-c5853cb98a58'), HumanMessage(content='The file `russian_gdp_plot.py` has been successfully created with the provided Python code. You can now run this script to visualize the Russian GDP data from 2010 to 2021. Let me know if you need any further assistance!', additional_kwargs={}, response_metadata={}, name='files_agent', id='2a4b280a-8e30-49c8-9fcc-2216955c536f')]\n",
      "==============\n",
      "files_agent\n",
      "==============\n",
      "Here is the code to write to the file named `russian_gdp_plot.py`:\n",
      "\n",
      "```python\n",
      "import matplotlib.pyplot as plt\n",
      "import pandas as pd\n",
      "\n",
      "# Sample GDP data for Russia (in billion USD)\n",
      "years = [2010, 2011, 2012, 2013, 2014, 2015, 2016, 2017, 2018, 2019, 2020, 2021]\n",
      "gdp = [1524, 2047, 2210, 2297, 2059, 1363, 1283, 1574, 1657, 1699, 1483, 1778]\n",
      "\n",
      "# Create a DataFrame\n",
      "data = pd.DataFrame({'Year': years, 'GDP (Billion USD)': gdp})\n",
      "\n",
      "# Plot the data\n",
      "plt.figure(figsize=(10, 6))\n",
      "plt.plot(data['Year'], data['GDP (Billion USD)'], marker='o', linestyle='-', color='b')\n",
      "plt.title('Russian GDP Over the Years (2010-2021)')\n",
      "plt.xlabel('Year')\n",
      "plt.ylabel('GDP (Billion USD)')\n",
      "plt.grid(True)\n",
      "plt.show()\n",
      "```\n",
      "==============\n",
      "[HumanMessage(content='Create a script that displays a graph Russian GDPWrite this script to a file for me so that I can run it myselfExecute code before write it for check', additional_kwargs={}, response_metadata={}, id='088cea43-d5cb-4181-86eb-a3212a8f72f7'), HumanMessage(content=\"The script successfully displays a graph of Russian GDP over the years 2010 to 2021. Here is the code snippet for your reference:\\n\\npython\\nimport matplotlib.pyplot as plt\\nimport pandas as pd\\n\\n# Sample GDP data for Russia (in billion USD)\\nyears = [2010, 2011, 2012, 2013, 2014, 2015, 2016, 2017, 2018, 2019, 2020, 2021]\\ngdp = [1524, 2047, 2210, 2297, 2059, 1363, 1283, 1574, 1657, 1699, 1483, 1778]\\n\\n# Create a DataFrame\\ndata = pd.DataFrame({'Year': years, 'GDP (Billion USD)': gdp})\\n\\n# Plot the data\\nplt.figure(figsize=(10, 6))\\nplt.plot(data['Year'], data['GDP (Billion USD)'], marker='o', linestyle='-', color='b')\\nplt.title('Russian GDP Over the Years (2010-2021)')\\nplt.xlabel('Year')\\nplt.ylabel('GDP (Billion USD)')\\nplt.grid(True)\\nplt.show()\\n\\n\\n### Output:\\nThe graph will display the GDP trend for Russia from 2010 to 2021, with markers for each year and a blue line connecting them. The plot includes a title, labeled axes, and a grid for better readability.\\n\\nYou can save this script to a file (e.g., `russian_gdp_plot.py`) if you'd like to reuse it. Let me know if you need any modifications or additional features!\", additional_kwargs={}, response_metadata={}, name='coder_agent', id='1e7ec05d-973f-44a3-82cf-bed08d3a4123'), HumanMessage(content=\"Please provide the code you'd like me to write to the file named `russian_gdp_plot.py`. Once you share the code, I can proceed with writing it to the specified file.\", additional_kwargs={}, response_metadata={}, name='files_agent', id='7a31d031-8d76-4037-a60a-c5853cb98a58'), HumanMessage(content='The file `russian_gdp_plot.py` has been successfully created with the provided Python code. You can now run this script to visualize the Russian GDP data from 2010 to 2021. Let me know if you need any further assistance!', additional_kwargs={}, response_metadata={}, name='files_agent', id='2a4b280a-8e30-49c8-9fcc-2216955c536f')]\n",
      "==============\n",
      "END\n",
      "==============\n",
      "The file `russian_gdp_plot.py` has been successfully created with the provided Python code. You can now run this script to visualize the Russian GDP data from 2010 to 2021. Let me know if you need any further assistance!\n"
     ]
    }
   ],
   "source": [
    "invoke_graph(\"Create a script that displays a graph Russian GDP\"\n",
    "            \"Write this script to a file for me so that I can run it myself\"\n",
    "            \"Execute code before write it for check\")"
   ]
  },
  {
   "cell_type": "code",
   "execution_count": 58,
   "id": "f1af4e84-4d36-4294-b8a9-9e6524abc2b6",
   "metadata": {},
   "outputs": [
    {
     "name": "stdout",
     "output_type": "stream",
     "text": [
      "==============\n",
      "[HumanMessage(content='Какая погода чегодня в Ярославле?', additional_kwargs={}, response_metadata={}, id='67bd1521-54be-4706-975c-75e701e2a3c1')]\n",
      "==============\n",
      "[HumanMessage(content='Какая погода чегодня в Ярославле?', additional_kwargs={}, response_metadata={}, id='67bd1521-54be-4706-975c-75e701e2a3c1')]\n",
      "==============\n",
      "research_agent\n",
      "==============\n",
      "Find the current weather in Yaroslavl.\n",
      "==============\n",
      "[HumanMessage(content='Какая погода чегодня в Ярославле?', additional_kwargs={}, response_metadata={}, id='67bd1521-54be-4706-975c-75e701e2a3c1'), HumanMessage(content='The current weather in Yaroslavl is as follows:\\n\\n- **Temperature**: 19.1°C (66.4°F)\\n- **Condition**: Partly Cloudy\\n- **Wind**: 8.6 kph (5.4 mph) from the Southwest\\n- **Humidity**: 70%\\n- **Pressure**: 1011.0 mb\\n- **Visibility**: 10 km\\n- **Feels Like**: 19.1°C (66.4°F)\\n\\nFor more details, you can check [Weather API](https://www.weatherapi.com/) or [Weather.com](https://weather.com/weather/today/l/2647e19c5696d0d2a56feeac7fc0a3bc18dcaaae19975d4d8da6d60c4a9c0075).', additional_kwargs={}, response_metadata={}, name='research_agent', id='3866e6ae-06f4-43c2-95a0-5c678a1a035a')]\n",
      "==============\n",
      "research_agent\n",
      "==============\n",
      "Find the current weather in Yaroslavl.\n",
      "==============\n",
      "[HumanMessage(content='Какая погода чегодня в Ярославле?', additional_kwargs={}, response_metadata={}, id='67bd1521-54be-4706-975c-75e701e2a3c1'), HumanMessage(content='The current weather in Yaroslavl is as follows:\\n\\n- **Temperature**: 19.1°C (66.4°F)\\n- **Condition**: Partly Cloudy\\n- **Wind**: 8.6 kph (5.4 mph) from the Southwest\\n- **Humidity**: 70%\\n- **Pressure**: 1011.0 mb\\n- **Visibility**: 10 km\\n- **Feels Like**: 19.1°C (66.4°F)\\n\\nFor more details, you can check [Weather API](https://www.weatherapi.com/) or [Weather.com](https://weather.com/weather/today/l/2647e19c5696d0d2a56feeac7fc0a3bc18dcaaae19975d4d8da6d60c4a9c0075).', additional_kwargs={}, response_metadata={}, name='research_agent', id='3866e6ae-06f4-43c2-95a0-5c678a1a035a')]\n",
      "==============\n",
      "END\n",
      "==============\n",
      "The current weather in Yaroslavl has been successfully retrieved.\n"
     ]
    }
   ],
   "source": [
    "invoke_graph('Какая погода cегодня в Ярославле?')"
   ]
  }
 ],
 "metadata": {
  "kernelspec": {
   "display_name": "Python 3 (ipykernel)",
   "language": "python",
   "name": "python3"
  },
  "language_info": {
   "codemirror_mode": {
    "name": "ipython",
    "version": 3
   },
   "file_extension": ".py",
   "mimetype": "text/x-python",
   "name": "python",
   "nbconvert_exporter": "python",
   "pygments_lexer": "ipython3",
   "version": "3.13.3"
  }
 },
 "nbformat": 4,
 "nbformat_minor": 5
}
